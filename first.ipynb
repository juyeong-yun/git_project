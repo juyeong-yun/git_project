{
 "cells": [
  {
   "cell_type": "code",
   "execution_count": null,
   "id": "88b5511b-d927-4ea0-83f3-c7bb56e97f86",
   "metadata": {},
   "outputs": [],
   "source": [
    "print('member 1 worked')"
   ]
  }
 ],
 "metadata": {
  "kernelspec": {
   "display_name": "Python 3 (ipykernel)",
   "language": "python",
   "name": "python3"
  },
  "language_info": {
   "codemirror_mode": {
    "name": "ipython",
    "version": 3
   },
   "file_extension": ".py",
   "mimetype": "text/x-python",
   "name": "python",
   "nbconvert_exporter": "python",
   "pygments_lexer": "ipython3",
   "version": "3.11.5"
  }
 },
 "nbformat": 4,
 "nbformat_minor": 5
}
