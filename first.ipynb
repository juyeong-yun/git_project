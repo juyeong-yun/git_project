{
 "cells": [
  {
   "cell_type": "code",
   "execution_count": 1,
   "id": "88b5511b-d927-4ea0-83f3-c7bb56e97f86",
   "metadata": {},
   "outputs": [
    {
     "name": "stdout",
     "output_type": "stream",
     "text": [
      "member 1 worked\n"
     ]
    }
   ],
   "source": [
    "print('member 1 worked')"
   ]
  },
  {
   "cell_type": "code",
   "execution_count": 2,
   "id": "1665065a-24f1-4335-a2ef-9c2176bbcff5",
   "metadata": {},
   "outputs": [
    {
     "name": "stdout",
     "output_type": "stream",
     "text": [
      "member 1 worked again\n"
     ]
    }
   ],
   "source": [
    "print('member 1 worked again')"
   ]
  },
  {
   "cell_type": "code",
   "execution_count": 5,
   "id": "299daf25-91b9-4e79-ad0d-844ce3902a98",
   "metadata": {},
   "outputs": [
    {
     "name": "stdout",
     "output_type": "stream",
     "text": [
      "member 1 worked in branch\n"
     ]
    }
   ],
   "source": [
    "print('member 1 worked in branch')"
   ]
  },
  {
   "cell_type": "code",
   "execution_count": 1,
   "id": "3a15280f-195a-41be-ae5b-87cc199d0f91",
   "metadata": {},
   "outputs": [
    {
     "name": "stdout",
     "output_type": "stream",
     "text": [
      "배고프다.\n"
     ]
    }
   ],
   "source": [
    "print('배고프다.')"
   ]
  }
 ],
 "metadata": {
  "kernelspec": {
   "display_name": "Python 3 (ipykernel)",
   "language": "python",
   "name": "python3"
  },
  "language_info": {
   "codemirror_mode": {
    "name": "ipython",
    "version": 3
   },
   "file_extension": ".py",
   "mimetype": "text/x-python",
   "name": "python",
   "nbconvert_exporter": "python",
   "pygments_lexer": "ipython3",
   "version": "3.11.5"
  }
 },
 "nbformat": 4,
 "nbformat_minor": 5
}
