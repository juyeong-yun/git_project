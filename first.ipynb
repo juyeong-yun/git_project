{
 "cells": [
  {
   "cell_type": "code",
   "execution_count": 1,
   "id": "88b5511b-d927-4ea0-83f3-c7bb56e97f86",
   "metadata": {},
   "outputs": [
    {
     "name": "stdout",
     "output_type": "stream",
     "text": [
      "member 1 worked\n"
     ]
    }
   ],
   "source": [
    "print('member 1 worked')"
   ]
  },
  {
   "cell_type": "code",
   "execution_count": 2,
   "id": "1665065a-24f1-4335-a2ef-9c2176bbcff5",
   "metadata": {},
   "outputs": [
    {
     "name": "stdout",
     "output_type": "stream",
     "text": [
      "member 1 worked again\n"
     ]
    }
   ],
   "source": [
    "print('member 1 worked again')"
   ]
  },
  {
   "cell_type": "code",
   "execution_count": 4,
   "id": "410eba50-8845-4e8b-b35c-3d5e05476e58",
   "metadata": {},
   "outputs": [
    {
     "name": "stdout",
     "output_type": "stream",
     "text": [
      "member 1 worked in branch\n"
     ]
    }
   ],
   "source": [
    "print('member 1 worked in branch')"
   ]
  }
 ],
 "metadata": {
  "kernelspec": {
   "display_name": "Python 3 (ipykernel)",
   "language": "python",
   "name": "python3"
  },
  "language_info": {
   "codemirror_mode": {
    "name": "ipython",
    "version": 3
   },
   "file_extension": ".py",
   "mimetype": "text/x-python",
   "name": "python",
   "nbconvert_exporter": "python",
   "pygments_lexer": "ipython3",
   "version": "3.11.5"
  }
 },
 "nbformat": 4,
 "nbformat_minor": 5
}
