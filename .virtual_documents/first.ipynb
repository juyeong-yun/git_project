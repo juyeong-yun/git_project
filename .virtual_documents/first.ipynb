print('member 1 worked')


print('member 1 worked again')


print('member 1 worked in branch')
